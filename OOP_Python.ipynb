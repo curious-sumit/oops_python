{
 "cells": [
  {
   "cell_type": "markdown",
   "id": "205d31bc",
   "metadata": {},
   "source": [
    "1. What is Object-Oriented Programming (OOP)?\n",
    "    - OOP is a programming paradigm based on the concept of \"objects\", which contain data and methods. It emphasizes concepts like encapsulation, inheritance, abstraction, and polymorphism."
   ]
  },
  {
   "cell_type": "markdown",
   "id": "b3a8629f",
   "metadata": {},
   "source": [
    "2. What is a class in OOP?\n",
    "    - A class is a blueprint for creating objects. It defines attributes (data) and methods (functions) that the created objects will have."
   ]
  },
  {
   "cell_type": "markdown",
   "id": "b2300cb3",
   "metadata": {},
   "source": [
    "3. What is an object in OOP?\n",
    "    - An object is an instance of a class. It holds actual data and can perform functions defined in the class."
   ]
  },
  {
   "cell_type": "markdown",
   "id": "c2054fe7",
   "metadata": {},
   "source": [
    "4. What is the difference between abstraction and encapsulation?\n",
    "    - Abstraction hides complexity by exposing only relevant details.\n",
    "    - Encapsulation hides internal state and behavior by bundling data and methods and restricting access using access modifiers."
   ]
  },
  {
   "cell_type": "markdown",
   "id": "cbcbb024",
   "metadata": {},
   "source": [
    "5. What are dunder methods in Python?\n",
    "    - Dunder (double underscore) methods like __init__, __str__, and __repr__ are special methods in Python used to override default behaviors of objects."
   ]
  },
  {
   "cell_type": "markdown",
   "id": "5ddf9de3",
   "metadata": {},
   "source": [
    "6. Explain the concept of inheritance in OOP\n",
    "    - Inheritance allows a class (child) to inherit attributes and methods from another class (parent), promoting code reuse."
   ]
  },
  {
   "cell_type": "markdown",
   "id": "8b25d5e2",
   "metadata": {},
   "source": [
    "7. What is polymorphism in OOP?\n",
    "    - Polymorphism allows objects of different classes to be treated as objects of a common super class, often via method overriding or interfaces."
   ]
  },
  {
   "cell_type": "markdown",
   "id": "c182e87b",
   "metadata": {},
   "source": [
    "8. How is encapsulation achieved in Python?\n",
    "    - Encapsulation is achieved using private/protected attributes (_var, __var) and getter/setter methods to control access."
   ]
  },
  {
   "cell_type": "markdown",
   "id": "f662dc3b",
   "metadata": {},
   "source": [
    "9. What is a constructor in Python?\n",
    "    - A constructor is a special method __init__() used to initialize objects when they are created."
   ]
  },
  {
   "cell_type": "markdown",
   "id": "28287da4",
   "metadata": {},
   "source": [
    "10. What are class and static methods in Python?\n",
    "    - Class methods use @classmethod and take cls as the first parameter.\n",
    "    - Static methods use @staticmethod and don’t take self or cls."
   ]
  },
  {
   "cell_type": "markdown",
   "id": "1cf073a0",
   "metadata": {},
   "source": [
    "11. What is method overloading in Python?\n",
    "    - Python does not support traditional method overloading. It can be mimicked using default arguments or *args, **kwargs."
   ]
  },
  {
   "cell_type": "markdown",
   "id": "e8b67d2a",
   "metadata": {},
   "source": [
    "12. What is method overriding in OOP?\n",
    "    - It’s redefining a method in the child class that is already defined in the parent class."
   ]
  },
  {
   "cell_type": "markdown",
   "id": "60ba8941",
   "metadata": {},
   "source": [
    "13. What is a property decorator in Python?\n",
    "    - @property is used to define getter methods that can be accessed like attributes."
   ]
  },
  {
   "cell_type": "markdown",
   "id": "ebe1942b",
   "metadata": {},
   "source": [
    "14. Why is polymorphism important in OOP?\n",
    "    - It increases code flexibility and reusability by allowing different classes to define methods with the same name."
   ]
  },
  {
   "cell_type": "markdown",
   "id": "bf8d4ca2",
   "metadata": {},
   "source": [
    "15. What is an abstract class in Python?\n",
    "    - An abstract class is a class that can't be instantiated directly and may contain abstract methods. Defined using the abc module."
   ]
  },
  {
   "cell_type": "markdown",
   "id": "2aae68f8",
   "metadata": {},
   "source": [
    "16. What are the advantages of OOP?\n",
    "    - Modularity\n",
    "    - Code reuse via inheritance\n",
    "    - Flexibility through polymorphism\n",
    "    - Encapsulation for data protection"
   ]
  },
  {
   "cell_type": "markdown",
   "id": "298921c0",
   "metadata": {},
   "source": [
    "17. What is the difference between a class variable and an instance variable?\n",
    "    - Class variable is shared across all instances.\n",
    "    - Instance variable is specific to each object."
   ]
  },
  {
   "cell_type": "markdown",
   "id": "94adc9a2",
   "metadata": {},
   "source": [
    "18. What is multiple inheritance in Python?\n",
    "    - A class can inherit from more than one parent class. Python supports this."
   ]
  },
  {
   "cell_type": "markdown",
   "id": "06b484e9",
   "metadata": {},
   "source": [
    "19. Explain the purpose of __str__ and __repr__ methods in Python.\n",
    "    - __str__: Defines the \"informal\" or nicely printable string representation.\n",
    "    - __repr__: Defines the \"official\" string representation, useful for debugging."
   ]
  },
  {
   "cell_type": "markdown",
   "id": "cac1cb70",
   "metadata": {},
   "source": [
    "20. What is the significance of the super() function in Python?\n",
    "    - super() is used to call methods of a parent class from the child class, especially useful in inheritance."
   ]
  },
  {
   "cell_type": "markdown",
   "id": "f286cda8",
   "metadata": {},
   "source": [
    "21. What is the significance of the __del__ method in Python?\n",
    "    - It is a destructor method that is called when an object is about to be destroyed to perform cleanup actions."
   ]
  },
  {
   "cell_type": "markdown",
   "id": "13ac59c3",
   "metadata": {},
   "source": [
    "22. What is the difference between @staticmethod and @classmethod in Python?\n",
    "    - @staticmethod does not take self or cls.\n",
    "    - @classmethod takes cls and can modify class state."
   ]
  },
  {
   "cell_type": "markdown",
   "id": "ed26060a",
   "metadata": {},
   "source": [
    "23. How does polymorphism work in Python with inheritance?\n",
    "    - Through method overriding and dynamic method resolution, Python allows subclasses to provide specific implementations."
   ]
  },
  {
   "cell_type": "markdown",
   "id": "33ffdd35",
   "metadata": {},
   "source": [
    "24. What is method chaining in Python OOP?\n",
    "    - Calling multiple methods sequentially on the same object in a single line using return self."
   ]
  },
  {
   "cell_type": "markdown",
   "id": "d5021fb8",
   "metadata": {},
   "source": [
    "25. What is the purpose of the __call__ method in Python?\n",
    "    - Allows an instance to be called as a function. Used to make objects callable."
   ]
  },
  {
   "cell_type": "markdown",
   "id": "553eac53",
   "metadata": {},
   "source": [
    "# Python OOP Practical questions"
   ]
  },
  {
   "cell_type": "markdown",
   "id": "c4e955f6",
   "metadata": {},
   "source": [
    "1. Create a parent class Animal with a method speak() that prints a generic message. Create a child class Dog that overrides the speak() method to print \"Bark!\"."
   ]
  },
  {
   "cell_type": "code",
   "execution_count": 2,
   "id": "cecfe04a",
   "metadata": {},
   "outputs": [],
   "source": [
    "class Animal:\n",
    "    def speak(self):\n",
    "        print(\"Animal speaks...\")\n",
    "\n",
    "class Dog(Animal):\n",
    "    def speak(self):\n",
    "        print(\"Bark!\")\n",
    "anm = Animal()"
   ]
  },
  {
   "cell_type": "code",
   "execution_count": 3,
   "id": "7b175f32",
   "metadata": {},
   "outputs": [
    {
     "name": "stdout",
     "output_type": "stream",
     "text": [
      "Animal speaks...\n"
     ]
    }
   ],
   "source": [
    "anm.speak()"
   ]
  },
  {
   "cell_type": "markdown",
   "id": "d22fdd8e",
   "metadata": {},
   "source": [
    "2. Write a program to create an abstract class Shape with a method area(). Derive classes Circle and Rectangle from it and implement the area() method in both."
   ]
  },
  {
   "cell_type": "code",
   "execution_count": 7,
   "id": "3315942f",
   "metadata": {},
   "outputs": [],
   "source": [
    "from abc import ABC, abstractmethod\n",
    "\n",
    "class Shape(ABC):\n",
    "    @abstractmethod\n",
    "    def area(self):\n",
    "        pass\n",
    "\n",
    "class Circle(Shape):\n",
    "    def __init__(self, radius):\n",
    "        self.radius = radius\n",
    "\n",
    "    def area(self):\n",
    "        return 3.14 * self.radius ** 2\n",
    "\n",
    "class Rectangle(Shape):\n",
    "    def __init__(self, width, height):\n",
    "        self.width = width\n",
    "        self.height = height\n",
    "\n",
    "    def area(self):\n",
    "        return self.width * self.height"
   ]
  },
  {
   "cell_type": "code",
   "execution_count": 8,
   "id": "25c743cf",
   "metadata": {},
   "outputs": [
    {
     "name": "stdout",
     "output_type": "stream",
     "text": [
      "Area of Circle: 78.5\n",
      "Area of Rectangle: 24\n"
     ]
    }
   ],
   "source": [
    "circle = Circle(5)\n",
    "rectangle = Rectangle(4, 6)\n",
    "\n",
    "print(\"Area of Circle:\", circle.area())\n",
    "print(\"Area of Rectangle:\", rectangle.area())\n"
   ]
  },
  {
   "cell_type": "markdown",
   "id": "48a6dd85",
   "metadata": {},
   "source": [
    "3. Implement a multi-level inheritance scenario where a class Vehicle has an attribute type. Derive a class Car and further derive a class ElectricCar that adds a battery attribute"
   ]
  },
  {
   "cell_type": "code",
   "execution_count": 9,
   "id": "2e6607e6",
   "metadata": {},
   "outputs": [],
   "source": [
    "class Vehicle:\n",
    "    def __init__(self, type):\n",
    "        self.type = type\n",
    "\n",
    "class Car(Vehicle):\n",
    "    def __init__(self, type, brand):\n",
    "        super().__init__(type)\n",
    "        self.brand = brand\n",
    "\n",
    "class ElectricCar(Car):\n",
    "    def __init__(self, type, brand, battery):\n",
    "        super().__init__(type, brand)\n",
    "        self.battery = battery"
   ]
  },
  {
   "cell_type": "code",
   "execution_count": 10,
   "id": "19296542",
   "metadata": {},
   "outputs": [
    {
     "name": "stdout",
     "output_type": "stream",
     "text": [
      "Type: Electric\n",
      "Brand: Tesla\n",
      "Battery: 100 kWh\n"
     ]
    }
   ],
   "source": [
    "ecar = ElectricCar(\"Electric\", \"Tesla\", \"100 kWh\")\n",
    "\n",
    "print(\"Type:\", ecar.type)\n",
    "print(\"Brand:\", ecar.brand)\n",
    "print(\"Battery:\", ecar.battery)\n"
   ]
  },
  {
   "cell_type": "markdown",
   "id": "9ce54d14",
   "metadata": {},
   "source": [
    "4. Demonstrate polymorphism by creating a base class Bird with a method fly(). Create two derived classes Sparrow and Penguin that override the fly() method."
   ]
  },
  {
   "cell_type": "code",
   "execution_count": 11,
   "id": "d5b7f461",
   "metadata": {},
   "outputs": [],
   "source": [
    "class Bird:\n",
    "    def fly(self):\n",
    "        print(\"Bird is flying...\")\n",
    "\n",
    "class Sparrow(Bird):\n",
    "    def fly(self):\n",
    "        print(\"Sparrow flies low.\")\n",
    "\n",
    "class Penguin(Bird):\n",
    "    def fly(self):\n",
    "        print(\"Penguins can't fly.\")"
   ]
  },
  {
   "cell_type": "code",
   "execution_count": 12,
   "id": "d9582c5a",
   "metadata": {},
   "outputs": [
    {
     "name": "stdout",
     "output_type": "stream",
     "text": [
      "Bird is flying...\n",
      "Sparrow flies low.\n",
      "Penguins can't fly.\n"
     ]
    }
   ],
   "source": [
    "bird = Bird()\n",
    "sparrow = Sparrow()\n",
    "penguin = Penguin()\n",
    "\n",
    "bird.fly()\n",
    "sparrow.fly()\n",
    "penguin.fly()\n"
   ]
  },
  {
   "cell_type": "markdown",
   "id": "7acc21ec",
   "metadata": {},
   "source": [
    "5. Write a program to demonstrate encapsulation by creating a class BankAccount with private attributes balance and methods to deposit, withdraw, and check balance."
   ]
  },
  {
   "cell_type": "code",
   "execution_count": 13,
   "id": "752f23fe",
   "metadata": {},
   "outputs": [],
   "source": [
    "class BankAccount:\n",
    "    def __init__(self, balance):\n",
    "        self.__balance = balance\n",
    "\n",
    "    def deposit(self, amount):\n",
    "        self.__balance += amount\n",
    "\n",
    "    def withdraw(self, amount):\n",
    "        if amount <= self.__balance:\n",
    "            self.__balance -= amount\n",
    "\n",
    "    def check_balance(self):\n",
    "        return self.__balance"
   ]
  },
  {
   "cell_type": "code",
   "execution_count": 14,
   "id": "fb596be3",
   "metadata": {},
   "outputs": [
    {
     "name": "stdout",
     "output_type": "stream",
     "text": [
      "Current Balance: 1300\n"
     ]
    }
   ],
   "source": [
    "account = BankAccount(1000)\n",
    "\n",
    "account.deposit(500)\n",
    "account.withdraw(200)\n",
    "print(\"Current Balance:\", account.check_balance())\n"
   ]
  },
  {
   "cell_type": "markdown",
   "id": "69016833",
   "metadata": {},
   "source": [
    "6. Demonstrate runtime polymorphism using a method play() in a base class Instrument. Derive classes Guitar and Piano that implement their own version of play()."
   ]
  },
  {
   "cell_type": "code",
   "execution_count": 15,
   "id": "28620687",
   "metadata": {},
   "outputs": [],
   "source": [
    "class Instrument:\n",
    "    def play(self):\n",
    "        print(\"Playing instrument...\")\n",
    "\n",
    "class Guitar(Instrument):\n",
    "    def play(self):\n",
    "        print(\"Strumming guitar.\")\n",
    "\n",
    "class Piano(Instrument):\n",
    "    def play(self):\n",
    "        print(\"Playing piano.\")"
   ]
  },
  {
   "cell_type": "code",
   "execution_count": 16,
   "id": "2b1b3599",
   "metadata": {},
   "outputs": [
    {
     "name": "stdout",
     "output_type": "stream",
     "text": [
      "Playing instrument...\n",
      "Strumming guitar.\n",
      "Playing piano.\n"
     ]
    }
   ],
   "source": [
    "instrument = Instrument()\n",
    "guitar = Guitar()\n",
    "piano = Piano()\n",
    "\n",
    "instrument.play()\n",
    "guitar.play()\n",
    "piano.play()\n"
   ]
  },
  {
   "cell_type": "markdown",
   "id": "fac09de8",
   "metadata": {},
   "source": [
    "7. Create a class MathOperations with a class method add_numbers() to add two numbers and a static method subtract_numbers() to subtract two numbers."
   ]
  },
  {
   "cell_type": "code",
   "execution_count": 17,
   "id": "c2fbbeb7",
   "metadata": {},
   "outputs": [],
   "source": [
    "class MathOperations:\n",
    "    @classmethod\n",
    "    def add_numbers(cls, a, b):\n",
    "        return a + b\n",
    "\n",
    "    @staticmethod\n",
    "    def subtract_numbers(a, b):\n",
    "        return a - b"
   ]
  },
  {
   "cell_type": "code",
   "execution_count": 18,
   "id": "2d3354d2",
   "metadata": {},
   "outputs": [
    {
     "name": "stdout",
     "output_type": "stream",
     "text": [
      "Sum: 15\n",
      "Difference: 5\n"
     ]
    }
   ],
   "source": [
    "# Calling the class method\n",
    "sum_result = MathOperations.add_numbers(10, 5)\n",
    "\n",
    "# Calling the static method\n",
    "difference_result = MathOperations.subtract_numbers(10, 5)\n",
    "\n",
    "print(\"Sum:\", sum_result)\n",
    "print(\"Difference:\", difference_result)\n"
   ]
  },
  {
   "cell_type": "markdown",
   "id": "7c687cee",
   "metadata": {},
   "source": [
    "8. Implement a class Person with a class method to count the total number of persons created."
   ]
  },
  {
   "cell_type": "code",
   "execution_count": 20,
   "id": "256b5bdc",
   "metadata": {},
   "outputs": [
    {
     "name": "stdout",
     "output_type": "stream",
     "text": [
      "Total Persons: 3\n"
     ]
    }
   ],
   "source": [
    "class Person:\n",
    "    count = 0\n",
    "\n",
    "    def __init__(self):\n",
    "        Person.count += 1\n",
    "\n",
    "# Create instances\n",
    "p1 = Person()\n",
    "p2 = Person()\n",
    "p3 = Person()\n",
    "\n",
    "# Print the total number of persons created\n",
    "print(\"Total Persons:\", Person.count)\n"
   ]
  },
  {
   "cell_type": "markdown",
   "id": "6ad59bf7",
   "metadata": {},
   "source": [
    "9. Write a class Fraction with attributes numerator and denominator. Override the str method to display the fraction as \"numerator/denominator\"."
   ]
  },
  {
   "cell_type": "code",
   "execution_count": 22,
   "id": "7ea31863",
   "metadata": {},
   "outputs": [],
   "source": [
    "class Fraction:\n",
    "    def __init__(self, numerator, denominator):\n",
    "        self.numerator = numerator\n",
    "        self.denominator = denominator\n",
    "\n",
    "    def __str__(self):\n",
    "        return f\"{self.numerator}/{self.denominator}\""
   ]
  },
  {
   "cell_type": "code",
   "execution_count": 23,
   "id": "ccec5e02",
   "metadata": {},
   "outputs": [
    {
     "name": "stdout",
     "output_type": "stream",
     "text": [
      "3/4\n"
     ]
    }
   ],
   "source": [
    "f = Fraction(3, 4)\n",
    "print(f)\n"
   ]
  },
  {
   "cell_type": "markdown",
   "id": "760d0401",
   "metadata": {},
   "source": [
    "10. Demonstrate operator overloading by creating a class Vector and overriding the add method to add two vectors."
   ]
  },
  {
   "cell_type": "code",
   "execution_count": 24,
   "id": "94d83de0",
   "metadata": {},
   "outputs": [],
   "source": [
    "class Vector:\n",
    "    def __init__(self, x, y):\n",
    "        self.x = x\n",
    "        self.y = y\n",
    "\n",
    "    def __add__(self, other):\n",
    "        return Vector(self.x + other.x, self.y + other.y)\n",
    "\n",
    "    def __str__(self):\n",
    "        return f\"Vector({self.x}, {self.y})\""
   ]
  },
  {
   "cell_type": "code",
   "execution_count": 25,
   "id": "498de3ec",
   "metadata": {},
   "outputs": [
    {
     "name": "stdout",
     "output_type": "stream",
     "text": [
      "Vector(6, 8)\n"
     ]
    }
   ],
   "source": [
    "v1 = Vector(2, 3)\n",
    "v2 = Vector(4, 5)\n",
    "\n",
    "v3 = v1 + v2\n",
    "print(v3)\n"
   ]
  },
  {
   "cell_type": "markdown",
   "id": "f1aa1e7b",
   "metadata": {},
   "source": [
    "11. Create a class Person with attributes name and age. Add a method greet() that prints \"Hello, my name is {name} and I am {age} years old.\"\n",
    "\n",
    "\n"
   ]
  },
  {
   "cell_type": "code",
   "execution_count": 26,
   "id": "39ab2d6a",
   "metadata": {},
   "outputs": [],
   "source": [
    "class Person:\n",
    "    def __init__(self, name, age):\n",
    "        self.name = name\n",
    "        self.age = age\n",
    "\n",
    "    def greet(self):\n",
    "        print(f\"Hello, my name is {self.name} and I am {self.age} years old.\")"
   ]
  },
  {
   "cell_type": "code",
   "execution_count": 29,
   "id": "c1dcf5bb",
   "metadata": {},
   "outputs": [
    {
     "name": "stdout",
     "output_type": "stream",
     "text": [
      "Hello, my name is Sumit and I am 23 years old.\n"
     ]
    }
   ],
   "source": [
    "p = Person(\"Sumit\", 23)\n",
    "p.greet()\n"
   ]
  },
  {
   "cell_type": "markdown",
   "id": "534830c5",
   "metadata": {},
   "source": [
    "12. Implement a class Student with attributes name and grades. Create a method average_grade() to compute the average of the grades."
   ]
  },
  {
   "cell_type": "code",
   "execution_count": 30,
   "id": "c44b24ad",
   "metadata": {},
   "outputs": [],
   "source": [
    "class Student:\n",
    "    def __init__(self, name, grades):\n",
    "        self.name = name\n",
    "        self.grades = grades\n",
    "\n",
    "    def average_grade(self):\n",
    "        return sum(self.grades) / len(self.grades)"
   ]
  },
  {
   "cell_type": "code",
   "execution_count": 31,
   "id": "0da89916",
   "metadata": {},
   "outputs": [
    {
     "name": "stdout",
     "output_type": "stream",
     "text": [
      "Average Grade: 90.0\n"
     ]
    }
   ],
   "source": [
    "s = Student(\"Sumit\", [85, 90, 95])\n",
    "print(\"Average Grade:\", s.average_grade())\n"
   ]
  },
  {
   "cell_type": "markdown",
   "id": "ebb55746",
   "metadata": {},
   "source": [
    "13. Create a class Rectangle with methods set_dimensions() to set the dimensions and area() to calculate the area."
   ]
  },
  {
   "cell_type": "code",
   "execution_count": 32,
   "id": "062f0472",
   "metadata": {},
   "outputs": [],
   "source": [
    "class Rectangle:\n",
    "    def set_dimensions(self, width, height):\n",
    "        self.width = width\n",
    "        self.height = height\n",
    "\n",
    "    def area(self):\n",
    "        return self.width * self.height"
   ]
  },
  {
   "cell_type": "code",
   "execution_count": 33,
   "id": "ddd56c1a",
   "metadata": {},
   "outputs": [
    {
     "name": "stdout",
     "output_type": "stream",
     "text": [
      "Area: 20\n"
     ]
    }
   ],
   "source": [
    "r = Rectangle()\n",
    "r.set_dimensions(5, 4)\n",
    "print(\"Area:\", r.area())\n"
   ]
  },
  {
   "cell_type": "markdown",
   "id": "f57ce022",
   "metadata": {},
   "source": [
    "14. Create a class Employee with a method calculate_salary() that computes the salary based on hours worked and hourly rate. Create a derived class Manager that adds a bonus to the salary."
   ]
  },
  {
   "cell_type": "code",
   "execution_count": 34,
   "id": "9bd3cc57",
   "metadata": {},
   "outputs": [],
   "source": [
    "class Employee:\n",
    "    def __init__(self, hours, rate):\n",
    "        self.hours = hours\n",
    "        self.rate = rate\n",
    "\n",
    "    def calculate_salary(self):\n",
    "        return self.hours * self.rate\n",
    "\n",
    "class Manager(Employee):\n",
    "    def __init__(self, hours, rate, bonus):\n",
    "        super().__init__(hours, rate)\n",
    "        self.bonus = bonus\n",
    "\n",
    "    def calculate_salary(self):\n",
    "        return super().calculate_salary() + self.bonus"
   ]
  },
  {
   "cell_type": "code",
   "execution_count": 35,
   "id": "08d455c1",
   "metadata": {},
   "outputs": [
    {
     "name": "stdout",
     "output_type": "stream",
     "text": [
      "Manager Salary: 2500\n"
     ]
    }
   ],
   "source": [
    "m = Manager(40, 50, 500)\n",
    "print(\"Manager Salary:\", m.calculate_salary())\n"
   ]
  },
  {
   "cell_type": "markdown",
   "id": "3d5231db",
   "metadata": {},
   "source": [
    "15. Create a class Product with attributes name, price, and quantity. Implement a method total_price() that calculates the total price of the product."
   ]
  },
  {
   "cell_type": "code",
   "execution_count": 36,
   "id": "ae51a37c",
   "metadata": {},
   "outputs": [],
   "source": [
    "class Product:\n",
    "    def __init__(self, name, price, quantity):\n",
    "        self.name = name\n",
    "        self.price = price\n",
    "        self.quantity = quantity\n",
    "\n",
    "    def total_price(self):\n",
    "        return self.price * self.quantity"
   ]
  },
  {
   "cell_type": "code",
   "execution_count": 37,
   "id": "0d029b2e",
   "metadata": {},
   "outputs": [
    {
     "name": "stdout",
     "output_type": "stream",
     "text": [
      "Total Price: 1600\n"
     ]
    }
   ],
   "source": [
    "p = Product(\"Laptop\", 800, 2)\n",
    "print(\"Total Price:\", p.total_price())\n"
   ]
  },
  {
   "cell_type": "markdown",
   "id": "48a7ee70",
   "metadata": {},
   "source": [
    "16. Create a class Animal with an abstract method sound(). Create two derived classes Cow and Sheep that implement the sound() method."
   ]
  },
  {
   "cell_type": "code",
   "execution_count": 38,
   "id": "0112579b",
   "metadata": {},
   "outputs": [],
   "source": [
    "from abc import ABC, abstractmethod\n",
    "\n",
    "class Animal(ABC):\n",
    "    @abstractmethod\n",
    "    def sound(self):\n",
    "        pass\n",
    "\n",
    "class Cow(Animal):\n",
    "    def sound(self):\n",
    "        return \"Moo\"\n",
    "\n",
    "class Sheep(Animal):\n",
    "    def sound(self):\n",
    "        return \"Baa\""
   ]
  },
  {
   "cell_type": "code",
   "execution_count": 39,
   "id": "7ec16423",
   "metadata": {},
   "outputs": [
    {
     "name": "stdout",
     "output_type": "stream",
     "text": [
      "Cow Sound: Moo\n",
      "Sheep Sound: Baa\n"
     ]
    }
   ],
   "source": [
    "cow = Cow()\n",
    "sheep = Sheep()\n",
    "\n",
    "print(\"Cow Sound:\", cow.sound())\n",
    "print(\"Sheep Sound:\", sheep.sound())\n"
   ]
  },
  {
   "cell_type": "markdown",
   "id": "bd9b8793",
   "metadata": {},
   "source": [
    "17. Create a class Book with attributes title, author, and year_published. Add a method get_book_info() that returns a formatted string with the book's details."
   ]
  },
  {
   "cell_type": "code",
   "execution_count": 40,
   "id": "ccac8148",
   "metadata": {},
   "outputs": [],
   "source": [
    "class Book:\n",
    "    def __init__(self, title, author, year_published):\n",
    "        self.title = title\n",
    "        self.author = author\n",
    "        self.year_published = year_published\n",
    "\n",
    "    def get_book_info(self):\n",
    "        return f\"{self.title} by {self.author}, published in {self.year_published}\""
   ]
  },
  {
   "cell_type": "code",
   "execution_count": 41,
   "id": "6100c7b5",
   "metadata": {},
   "outputs": [
    {
     "name": "stdout",
     "output_type": "stream",
     "text": [
      "1984 by George Orwell, published in 1949\n"
     ]
    }
   ],
   "source": [
    "b = Book(\"1984\", \"George Orwell\", 1949)\n",
    "print(b.get_book_info())\n"
   ]
  },
  {
   "cell_type": "markdown",
   "id": "e1338eb3",
   "metadata": {},
   "source": [
    "18. Create a class House with attributes address and price. Create a derived class Mansion that adds an attribute number_of_rooms."
   ]
  },
  {
   "cell_type": "code",
   "execution_count": 42,
   "id": "d9126712",
   "metadata": {},
   "outputs": [],
   "source": [
    "class House:\n",
    "    def __init__(self, address, price):\n",
    "        self.address = address\n",
    "        self.price = price\n",
    "\n",
    "class Mansion(House):\n",
    "    def __init__(self, address, price, number_of_rooms):\n",
    "        super().__init__(address, price)\n",
    "        self.number_of_rooms = number_of_rooms"
   ]
  },
  {
   "cell_type": "code",
   "execution_count": 43,
   "id": "c54f3afd",
   "metadata": {},
   "outputs": [
    {
     "name": "stdout",
     "output_type": "stream",
     "text": [
      "Address: 123 Palm Street\n",
      "Price: 500000\n",
      "Number of Rooms: 10\n"
     ]
    }
   ],
   "source": [
    "m = Mansion(\"123 Palm Street\", 500000, 10)\n",
    "\n",
    "print(\"Address:\", m.address)\n",
    "print(\"Price:\", m.price)\n",
    "print(\"Number of Rooms:\", m.number_of_rooms)\n"
   ]
  }
 ],
 "metadata": {
  "kernelspec": {
   "display_name": "Python 3",
   "language": "python",
   "name": "python3"
  },
  "language_info": {
   "codemirror_mode": {
    "name": "ipython",
    "version": 3
   },
   "file_extension": ".py",
   "mimetype": "text/x-python",
   "name": "python",
   "nbconvert_exporter": "python",
   "pygments_lexer": "ipython3",
   "version": "3.13.3"
  }
 },
 "nbformat": 4,
 "nbformat_minor": 5
}
